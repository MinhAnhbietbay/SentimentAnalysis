{
 "cells": [
  {
   "cell_type": "code",
   "execution_count": 19,
   "id": "23a18e04",
   "metadata": {},
   "outputs": [
    {
     "name": "stderr",
     "output_type": "stream",
     "text": [
      "[nltk_data] Downloading package vader_lexicon to\n",
      "[nltk_data]     C:\\Users\\ASUS\\AppData\\Roaming\\nltk_data...\n",
      "[nltk_data]   Package vader_lexicon is already up-to-date!\n"
     ]
    }
   ],
   "source": [
    "import pandas as pd\n",
    "import numpy as np\n",
    "import matplotlib.pyplot as plt\n",
    "from wordcloud import WordCloud\n",
    "from textblob import TextBlob\n",
    "from nltk.sentiment.vader import SentimentIntensityAnalyzer\n",
    "import nltk\n",
    "nltk.download('vader_lexicon')\n",
    "from sklearn.feature_extraction.text import CountVectorizer, TfidfVectorizer\n",
    "from sklearn.model_selection import train_test_split\n",
    "from sklearn.naive_bayes import MultinomialNB\n",
    "from sklearn.linear_model import LogisticRegression\n",
    "from sklearn.svm import SVC\n",
    "from sklearn.metrics import accuracy_score, confusion_matrix, classification_report, f1_score\n",
    "import seaborn as sns"
   ]
  },
  {
   "cell_type": "code",
   "execution_count": 20,
   "id": "0f34eedf",
   "metadata": {},
   "outputs": [],
   "source": [
    "data = pd.read_csv('datasets/Dataset-SA.csv')"
   ]
  },
  {
   "cell_type": "code",
   "execution_count": 21,
   "id": "e2abac98",
   "metadata": {},
   "outputs": [],
   "source": [
    "data['text'] = data['Review'].fillna('') + ' ' + data['Summary'].fillna('')\n",
    "data['text'] = data['text'].str.strip()\n",
    "data = data[data['text'] != '']\n",
    "data = data.dropna(subset=['Rate', 'Sentiment'])"
   ]
  },
  {
   "cell_type": "code",
   "execution_count": 22,
   "id": "e1251c21",
   "metadata": {},
   "outputs": [],
   "source": [
    "\n",
    "data['score'] = data['Sentiment'].map({'positive': 1, 'neutral': 0, 'negative': -1})"
   ]
  },
  {
   "cell_type": "code",
   "execution_count": 23,
   "id": "2546d6f5",
   "metadata": {},
   "outputs": [
    {
     "data": {
      "text/html": [
       "<div>\n",
       "<style scoped>\n",
       "    .dataframe tbody tr th:only-of-type {\n",
       "        vertical-align: middle;\n",
       "    }\n",
       "\n",
       "    .dataframe tbody tr th {\n",
       "        vertical-align: top;\n",
       "    }\n",
       "\n",
       "    .dataframe thead th {\n",
       "        text-align: right;\n",
       "    }\n",
       "</style>\n",
       "<table border=\"1\" class=\"dataframe\">\n",
       "  <thead>\n",
       "    <tr style=\"text-align: right;\">\n",
       "      <th></th>\n",
       "      <th>product_name</th>\n",
       "      <th>product_price</th>\n",
       "      <th>Rate</th>\n",
       "      <th>Review</th>\n",
       "      <th>Summary</th>\n",
       "      <th>Sentiment</th>\n",
       "      <th>text</th>\n",
       "      <th>score</th>\n",
       "    </tr>\n",
       "  </thead>\n",
       "  <tbody>\n",
       "    <tr>\n",
       "      <th>0</th>\n",
       "      <td>Candes 12 L Room/Personal Air Cooler??????(Whi...</td>\n",
       "      <td>3999</td>\n",
       "      <td>5</td>\n",
       "      <td>super!</td>\n",
       "      <td>great cooler excellent air flow and for this p...</td>\n",
       "      <td>positive</td>\n",
       "      <td>super! great cooler excellent air flow and for...</td>\n",
       "      <td>1</td>\n",
       "    </tr>\n",
       "    <tr>\n",
       "      <th>1</th>\n",
       "      <td>Candes 12 L Room/Personal Air Cooler??????(Whi...</td>\n",
       "      <td>3999</td>\n",
       "      <td>5</td>\n",
       "      <td>awesome</td>\n",
       "      <td>best budget 2 fit cooler nice cooling</td>\n",
       "      <td>positive</td>\n",
       "      <td>awesome best budget 2 fit cooler nice cooling</td>\n",
       "      <td>1</td>\n",
       "    </tr>\n",
       "    <tr>\n",
       "      <th>2</th>\n",
       "      <td>Candes 12 L Room/Personal Air Cooler??????(Whi...</td>\n",
       "      <td>3999</td>\n",
       "      <td>3</td>\n",
       "      <td>fair</td>\n",
       "      <td>the quality is good but the power of air is de...</td>\n",
       "      <td>positive</td>\n",
       "      <td>fair the quality is good but the power of air ...</td>\n",
       "      <td>1</td>\n",
       "    </tr>\n",
       "    <tr>\n",
       "      <th>3</th>\n",
       "      <td>Candes 12 L Room/Personal Air Cooler??????(Whi...</td>\n",
       "      <td>3999</td>\n",
       "      <td>1</td>\n",
       "      <td>useless product</td>\n",
       "      <td>very bad product its a only a fan</td>\n",
       "      <td>negative</td>\n",
       "      <td>useless product very bad product its a only a fan</td>\n",
       "      <td>-1</td>\n",
       "    </tr>\n",
       "    <tr>\n",
       "      <th>4</th>\n",
       "      <td>Candes 12 L Room/Personal Air Cooler??????(Whi...</td>\n",
       "      <td>3999</td>\n",
       "      <td>3</td>\n",
       "      <td>fair</td>\n",
       "      <td>ok ok product</td>\n",
       "      <td>neutral</td>\n",
       "      <td>fair ok ok product</td>\n",
       "      <td>0</td>\n",
       "    </tr>\n",
       "  </tbody>\n",
       "</table>\n",
       "</div>"
      ],
      "text/plain": [
       "                                        product_name product_price Rate  \\\n",
       "0  Candes 12 L Room/Personal Air Cooler??????(Whi...          3999    5   \n",
       "1  Candes 12 L Room/Personal Air Cooler??????(Whi...          3999    5   \n",
       "2  Candes 12 L Room/Personal Air Cooler??????(Whi...          3999    3   \n",
       "3  Candes 12 L Room/Personal Air Cooler??????(Whi...          3999    1   \n",
       "4  Candes 12 L Room/Personal Air Cooler??????(Whi...          3999    3   \n",
       "\n",
       "            Review                                            Summary  \\\n",
       "0           super!  great cooler excellent air flow and for this p...   \n",
       "1          awesome              best budget 2 fit cooler nice cooling   \n",
       "2             fair  the quality is good but the power of air is de...   \n",
       "3  useless product                  very bad product its a only a fan   \n",
       "4             fair                                      ok ok product   \n",
       "\n",
       "  Sentiment                                               text  score  \n",
       "0  positive  super! great cooler excellent air flow and for...      1  \n",
       "1  positive      awesome best budget 2 fit cooler nice cooling      1  \n",
       "2  positive  fair the quality is good but the power of air ...      1  \n",
       "3  negative  useless product very bad product its a only a fan     -1  \n",
       "4   neutral                                 fair ok ok product      0  "
      ]
     },
     "execution_count": 23,
     "metadata": {},
     "output_type": "execute_result"
    }
   ],
   "source": [
    "data.head()"
   ]
  },
  {
   "cell_type": "code",
   "execution_count": 24,
   "id": "c878495b",
   "metadata": {},
   "outputs": [
    {
     "data": {
      "text/plain": [
       "(616, 2, np.float64(54.207881004633016))"
      ]
     },
     "execution_count": 24,
     "metadata": {},
     "output_type": "execute_result"
    }
   ],
   "source": [
    "data['text_length'] = data['text'].str.len()\n",
    "data['text_length'].max(), data['text_length'].min(), data['text_length'].mean()"
   ]
  },
  {
   "cell_type": "code",
   "execution_count": 25,
   "id": "885a5de9",
   "metadata": {},
   "outputs": [],
   "source": [
    "X = data['text']\n",
    "y = data['score']\n",
    "X_train, X_test, y_train, y_test = train_test_split(X, y, test_size=0.2, random_state=42, stratify=y)"
   ]
  },
  {
   "cell_type": "code",
   "execution_count": 26,
   "id": "abf9c9a3",
   "metadata": {},
   "outputs": [],
   "source": [
    "vectorizer_bow = CountVectorizer(stop_words='english', max_features=5000, ngram_range=(1,2))\n",
    "X_train_bow = vectorizer_bow.fit_transform(X_train)\n",
    "X_test_bow = vectorizer_bow.transform(X_test)\n",
    "\n",
    "vectorizer_tfidf = TfidfVectorizer(stop_words='english', max_features=5000, ngram_range=(1,2))\n",
    "X_train_tfidf = vectorizer_tfidf.fit_transform(X_train)\n",
    "X_test_tfidf = vectorizer_tfidf.transform(X_test)"
   ]
  },
  {
   "cell_type": "code",
   "execution_count": 27,
   "id": "1f0ca2c9",
   "metadata": {},
   "outputs": [
    {
     "name": "stdout",
     "output_type": "stream",
     "text": [
      "\n",
      "Naive Bayes (BoW) Accuracy: 0.9101194830529139\n",
      "Classification Report:\n",
      "               precision    recall  f1-score   support\n",
      "\n",
      "          -1       0.84      0.82      0.83      5646\n",
      "           0       0.41      0.50      0.45      2048\n",
      "           1       0.96      0.95      0.96     33316\n",
      "\n",
      "    accuracy                           0.91     41010\n",
      "   macro avg       0.74      0.76      0.74     41010\n",
      "weighted avg       0.92      0.91      0.91     41010\n",
      "\n",
      "Macro F1-score: 0.7445098174309592\n"
     ]
    }
   ],
   "source": [
    "# Naive Bayes (BoW)\n",
    "nb_model = MultinomialNB()\n",
    "nb_model.fit(X_train_bow, y_train)\n",
    "y_pred_nb = nb_model.predict(X_test_bow)\n",
    "print(\"\\nNaive Bayes (BoW) Accuracy:\", accuracy_score(y_test, y_pred_nb))\n",
    "print(\"Classification Report:\\n\", classification_report(y_test, y_pred_nb, zero_division=0))\n",
    "print(\"Macro F1-score:\", f1_score(y_test, y_pred_nb, average='macro'))"
   ]
  },
  {
   "cell_type": "code",
   "execution_count": 28,
   "id": "1f7769d0",
   "metadata": {},
   "outputs": [
    {
     "name": "stderr",
     "output_type": "stream",
     "text": [
      "c:\\ProgramData\\anaconda3\\Lib\\site-packages\\sklearn\\linear_model\\_logistic.py:1256: FutureWarning: 'multi_class' was deprecated in version 1.5 and will be removed in 1.7. Use OneVsRestClassifier(LogisticRegression(..)) instead. Leave it to its default value to avoid this warning.\n",
      "  warnings.warn(\n"
     ]
    },
    {
     "name": "stdout",
     "output_type": "stream",
     "text": [
      "\n",
      "Logistic Regression (BoW) Accuracy: 0.9004389173372348\n",
      "Classification Report:\n",
      "               precision    recall  f1-score   support\n",
      "\n",
      "          -1       0.80      0.85      0.82      5646\n",
      "           0       0.38      0.62      0.47      2048\n",
      "           1       0.98      0.93      0.95     33316\n",
      "\n",
      "    accuracy                           0.90     41010\n",
      "   macro avg       0.72      0.80      0.75     41010\n",
      "weighted avg       0.92      0.90      0.91     41010\n",
      "\n",
      "Macro F1-score: 0.7480970777887861\n"
     ]
    }
   ],
   "source": [
    "# Logistic Regression (BoW)\n",
    "lr_model_bow = LogisticRegression(max_iter=1000, penalty='l2', C=1.0, multi_class='ovr', class_weight='balanced')\n",
    "lr_model_bow.fit(X_train_bow, y_train)\n",
    "y_pred_lr_bow = lr_model_bow.predict(X_test_bow)\n",
    "print(\"\\nLogistic Regression (BoW) Accuracy:\", accuracy_score(y_test, y_pred_lr_bow))\n",
    "print(\"Classification Report:\\n\", classification_report(y_test, y_pred_lr_bow, zero_division=0))\n",
    "print(\"Macro F1-score:\", f1_score(y_test, y_pred_lr_bow, average='macro'))"
   ]
  },
  {
   "cell_type": "code",
   "execution_count": 29,
   "id": "bb0b13cd",
   "metadata": {},
   "outputs": [
    {
     "name": "stdout",
     "output_type": "stream",
     "text": [
      "\n",
      "SVM (TF-IDF) Accuracy: 0.8702999268471104\n",
      "Classification Report:\n",
      "               precision    recall  f1-score   support\n",
      "\n",
      "          -1       0.77      0.83      0.80      5646\n",
      "           0       0.30      0.69      0.42      2048\n",
      "           1       0.98      0.89      0.93     33316\n",
      "\n",
      "    accuracy                           0.87     41010\n",
      "   macro avg       0.68      0.80      0.72     41010\n",
      "weighted avg       0.92      0.87      0.89     41010\n",
      "\n",
      "Macro F1-score: 0.7163094282970434\n"
     ]
    }
   ],
   "source": [
    "# SVM (TF-IDF)\n",
    "svm_model = SVC(kernel='linear', class_weight='balanced')\n",
    "svm_model.fit(X_train_tfidf, y_train)\n",
    "y_pred_svm = svm_model.predict(X_test_tfidf)\n",
    "print(\"\\nSVM (TF-IDF) Accuracy:\", accuracy_score(y_test, y_pred_svm))\n",
    "print(\"Classification Report:\\n\", classification_report(y_test, y_pred_svm, zero_division=0))\n",
    "print(\"Macro F1-score:\", f1_score(y_test, y_pred_svm, average='macro'))\n"
   ]
  },
  {
   "cell_type": "code",
   "execution_count": 30,
   "id": "6b99a46d",
   "metadata": {},
   "outputs": [
    {
     "name": "stderr",
     "output_type": "stream",
     "text": [
      "c:\\ProgramData\\anaconda3\\Lib\\site-packages\\sklearn\\linear_model\\_logistic.py:1256: FutureWarning: 'multi_class' was deprecated in version 1.5 and will be removed in 1.7. Use OneVsRestClassifier(LogisticRegression(..)) instead. Leave it to its default value to avoid this warning.\n",
      "  warnings.warn(\n"
     ]
    },
    {
     "name": "stdout",
     "output_type": "stream",
     "text": [
      "\n",
      "Logistic Regression (TF-IDF) Accuracy: 0.8996098512557913\n",
      "Classification Report:\n",
      "               precision    recall  f1-score   support\n",
      "\n",
      "          -1       0.79      0.86      0.83      5646\n",
      "           0       0.37      0.62      0.47      2048\n",
      "           1       0.98      0.92      0.95     33316\n",
      "\n",
      "    accuracy                           0.90     41010\n",
      "   macro avg       0.71      0.80      0.75     41010\n",
      "weighted avg       0.92      0.90      0.91     41010\n",
      "\n",
      "Macro F1-score: 0.747395539320585\n"
     ]
    }
   ],
   "source": [
    "# Logistic Regression (TF-IDF)\n",
    "lr_model_tfidf = LogisticRegression(max_iter=1000, penalty='l2', C=1.0, multi_class='ovr', class_weight='balanced')\n",
    "lr_model_tfidf.fit(X_train_tfidf, y_train)\n",
    "y_pred_lr_tfidf = lr_model_tfidf.predict(X_test_tfidf)\n",
    "print(\"\\nLogistic Regression (TF-IDF) Accuracy:\", accuracy_score(y_test, y_pred_lr_tfidf))\n",
    "print(\"Classification Report:\\n\", classification_report(y_test, y_pred_lr_tfidf, zero_division=0))\n",
    "print(\"Macro F1-score:\", f1_score(y_test, y_pred_lr_tfidf, average='macro'))"
   ]
  },
  {
   "cell_type": "code",
   "execution_count": 31,
   "id": "c1101995",
   "metadata": {},
   "outputs": [],
   "source": [
    "test_data = [\n",
    "    {\"overall\": 5.0, \"reviewText\": \"Great product and price!\", \"summary\": \"Five Stars\"},\n",
    "    {\"overall\": 5.0, \"reviewText\": \"Great product and price!\", \"summary\": \"Five Stars\"},\n",
    "    {\"overall\": 5.0, \"reviewText\": \"Great product and price!\", \"summary\": \"Five Stars\"},\n",
    "    {\"overall\": 5.0, \"reviewText\": \"Great product and price!\", \"summary\": \"Five Stars\"},\n",
    "    {\"overall\": 5.0, \"reviewText\": \"Great product and price!\", \"summary\": \"Five Stars\"},\n",
    "    {\"overall\": 3.0, \"reviewText\": \"Waaay too small. Will use for futur children!\", \"summary\": \"Oops!\"},\n",
    "    {\"overall\": 5.0, \"reviewText\": \"Stays vibrant after many washes\", \"summary\": \"Great\"},\n",
    "    {\"overall\": 5.0, \"reviewText\": \"Stays vibrant after many washes\", \"summary\": \"Good\"},\n",
    "    {\"overall\": 5.0, \"reviewText\": \"My son really likes the pink. Ones which I was nervous about\", \"summary\": \"Great\"}\n",
    "]\n",
    "test_df = pd.DataFrame(test_data)\n",
    "test_df['text'] = test_df['reviewText'].fillna('') + ' ' + test_df['summary'].fillna('')\n",
    "test_df['text'] = test_df['text'].str.strip()"
   ]
  },
  {
   "cell_type": "code",
   "execution_count": 32,
   "id": "c5c2f407",
   "metadata": {},
   "outputs": [],
   "source": [
    "# TextBlob\n",
    "test_df['textblob_polarity'] = test_df['text'].apply(lambda x: TextBlob(x).sentiment.polarity)\n",
    "test_df['textblob_pred'] = test_df['textblob_polarity'].apply(lambda x: 1 if x >= 0 else -1)"
   ]
  },
  {
   "cell_type": "code",
   "execution_count": 33,
   "id": "c0e858e4",
   "metadata": {},
   "outputs": [],
   "source": [
    "# VADER\n",
    "sia = SentimentIntensityAnalyzer()\n",
    "test_df['vader_compound'] = test_df['text'].apply(lambda x: sia.polarity_scores(x)['compound'])\n",
    "test_df['vader_pred'] = test_df['vader_compound'].apply(lambda x: 1 if x >= 0.1 else (-1 if x <= -0.1 else 0))"
   ]
  },
  {
   "cell_type": "code",
   "execution_count": 34,
   "id": "66e52158",
   "metadata": {},
   "outputs": [],
   "source": [
    "# ML Models\n",
    "test_bow = vectorizer_bow.transform(test_df['text'])\n",
    "test_tfidf = vectorizer_tfidf.transform(test_df['text'])\n",
    "test_df['nb_pred'] = nb_model.predict(test_bow)\n",
    "test_df['lr_bow_pred'] = lr_model_bow.predict(test_bow)\n",
    "test_df['svm_pred'] = svm_model.predict(test_tfidf)\n",
    "test_df['lr_tfidf_pred'] = lr_model_tfidf.predict(test_tfidf)"
   ]
  },
  {
   "cell_type": "code",
   "execution_count": 35,
   "id": "a37e5f42",
   "metadata": {},
   "outputs": [
    {
     "name": "stdout",
     "output_type": "stream",
     "text": [
      "\n",
      "Dự đoán trên tập test không nhãn:\n",
      "                                                text  overall  textblob_pred  \\\n",
      "0                Great product and price! Five Stars      5.0              1   \n",
      "1                Great product and price! Five Stars      5.0              1   \n",
      "2                Great product and price! Five Stars      5.0              1   \n",
      "3                Great product and price! Five Stars      5.0              1   \n",
      "4                Great product and price! Five Stars      5.0              1   \n",
      "5  Waaay too small. Will use for futur children! ...      3.0             -1   \n",
      "6              Stays vibrant after many washes Great      5.0              1   \n",
      "7               Stays vibrant after many washes Good      5.0              1   \n",
      "8  My son really likes the pink. Ones which I was...      5.0              1   \n",
      "\n",
      "   vader_pred  nb_pred  lr_bow_pred  svm_pred  lr_tfidf_pred  \n",
      "0           1        1            0         0              1  \n",
      "1           1        1            0         0              1  \n",
      "2           1        1            0         0              1  \n",
      "3           1        1            0         0              1  \n",
      "4           1        1            0         0              1  \n",
      "5           0        1            0         0              0  \n",
      "6           1        1            1         1              1  \n",
      "7           1        1           -1         1              0  \n",
      "8           1        1            1         1              1  \n"
     ]
    }
   ],
   "source": [
    "print(\"\\nDự đoán trên tập test không nhãn:\")\n",
    "print(test_df[['text', 'overall', 'textblob_pred', 'vader_pred', 'nb_pred', 'lr_bow_pred', 'svm_pred', 'lr_tfidf_pred']])"
   ]
  },
  {
   "cell_type": "code",
   "execution_count": 36,
   "id": "1d8d9a5f",
   "metadata": {},
   "outputs": [
    {
     "name": "stdout",
     "output_type": "stream",
     "text": [
      "\n",
      "Tỷ lệ đồng thuận giữa các phương pháp: 22.22%\n"
     ]
    }
   ],
   "source": [
    "agreement = test_df[['textblob_pred', 'vader_pred', 'nb_pred', 'lr_bow_pred', 'svm_pred', 'lr_tfidf_pred']].eq(test_df['lr_tfidf_pred'], axis=0).all(axis=1).mean()\n",
    "print(f\"\\nTỷ lệ đồng thuận giữa các phương pháp: {agreement:.2%}\")"
   ]
  },
  {
   "cell_type": "code",
   "execution_count": 37,
   "id": "178b4717",
   "metadata": {},
   "outputs": [
    {
     "name": "stdout",
     "output_type": "stream",
     "text": [
      "\n",
      "Phân bố dự đoán (textblob_pred):\n",
      " textblob_pred\n",
      "-1    1\n",
      " 1    8\n",
      "Name: count, dtype: int64\n",
      "\n",
      "Phân bố dự đoán (vader_pred):\n",
      " vader_pred\n",
      "0    1\n",
      "1    8\n",
      "Name: count, dtype: int64\n",
      "\n",
      "Phân bố dự đoán (nb_pred):\n",
      " nb_pred\n",
      "1    9\n",
      "Name: count, dtype: int64\n",
      "\n",
      "Phân bố dự đoán (lr_bow_pred):\n",
      " lr_bow_pred\n",
      "-1    1\n",
      " 0    6\n",
      " 1    2\n",
      "Name: count, dtype: int64\n",
      "\n",
      "Phân bố dự đoán (svm_pred):\n",
      " svm_pred\n",
      "0    6\n",
      "1    3\n",
      "Name: count, dtype: int64\n",
      "\n",
      "Phân bố dự đoán (lr_tfidf_pred):\n",
      " lr_tfidf_pred\n",
      "0    2\n",
      "1    7\n",
      "Name: count, dtype: int64\n"
     ]
    }
   ],
   "source": [
    "for method in ['textblob_pred', 'vader_pred', 'nb_pred', 'lr_bow_pred', 'svm_pred', 'lr_tfidf_pred']:\n",
    "    print(f\"\\nPhân bố dự đoán ({method}):\\n\", test_df[method].value_counts().sort_index())"
   ]
  },
  {
   "cell_type": "code",
   "execution_count": 38,
   "id": "12e8a929",
   "metadata": {},
   "outputs": [
    {
     "name": "stdout",
     "output_type": "stream",
     "text": [
      "\n",
      "So sánh với overall_score (đối chiếu sơ bộ):\n",
      "textblob_pred agreement with overall_score: 88.89%\n",
      "vader_pred agreement with overall_score: 100.00%\n",
      "nb_pred agreement with overall_score: 88.89%\n",
      "lr_bow_pred agreement with overall_score: 33.33%\n",
      "svm_pred agreement with overall_score: 44.44%\n",
      "lr_tfidf_pred agreement with overall_score: 88.89%\n"
     ]
    }
   ],
   "source": [
    "test_df['overall_score'] = test_df['overall'].apply(lambda x: 1 if x >= 4 else (-1 if x <= 2 else 0))\n",
    "print(\"\\nSo sánh với overall_score (đối chiếu sơ bộ):\")\n",
    "for method in ['textblob_pred', 'vader_pred', 'nb_pred', 'lr_bow_pred', 'svm_pred', 'lr_tfidf_pred']:\n",
    "    agreement_with_overall = (test_df[method] == test_df['overall_score']).mean()\n",
    "    print(f\"{method} agreement with overall_score: {agreement_with_overall:.2%}\")"
   ]
  },
  {
   "cell_type": "code",
   "execution_count": 39,
   "id": "562424f6",
   "metadata": {},
   "outputs": [
    {
     "data": {
      "image/png": "[encoded data removed]",
      "text/plain": [
       "<Figure size 600x400 with 1 Axes>"
      ]
     },
     "metadata": {},
     "output_type": "display_data"
    }
   ],
   "source": [
    "cm = confusion_matrix(y_test, y_pred_lr_tfidf)\n",
    "plt.figure(figsize=(6, 4))\n",
    "sns.heatmap(cm, annot=True, fmt='d', cmap='Blues', cbar=False)\n",
    "plt.title('Confusion Matrix - Logistic Regression (TF-IDF) on Test Set')\n",
    "plt.xlabel('Predicted')\n",
    "plt.ylabel('Actual')\n",
    "plt.xticks(ticks=[0, 1, 2], labels=['Negative (-1)', 'Neutral (0)', 'Positive (+1)'])\n",
    "plt.yticks(ticks=[0, 1, 2], labels=['Negative (-1)', 'Neutral (0)', 'Positive (+1)'])\n",
    "plt.show()"
   ]
  }
 ],
 "metadata": {
  "kernelspec": {
   "display_name": "base",
   "language": "python",
   "name": "python3"
  },
  "language_info": {
   "codemirror_mode": {
    "name": "ipython",
    "version": 3
   },
   "file_extension": ".py",
   "mimetype": "text/x-python",
   "name": "python",
   "nbconvert_exporter": "python",
   "pygments_lexer": "ipython3",
   "version": "3.13.5"
  }
 },
 "nbformat": 4,
 "nbformat_minor": 5
}
