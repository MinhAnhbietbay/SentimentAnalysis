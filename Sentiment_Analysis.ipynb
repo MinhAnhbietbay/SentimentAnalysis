{
 "cells": [
  {
   "cell_type": "code",
   "execution_count": 44,
   "id": "23a18e04",
   "metadata": {},
   "outputs": [
    {
     "name": "stderr",
     "output_type": "stream",
     "text": [
      "[nltk_data] Downloading package vader_lexicon to\n",
      "[nltk_data]     C:\\Users\\ASUS\\AppData\\Roaming\\nltk_data...\n",
      "[nltk_data]   Package vader_lexicon is already up-to-date!\n"
     ]
    }
   ],
   "source": [
    "import pandas as pd\n",
    "import numpy as np\n",
    "import matplotlib.pyplot as plt\n",
    "from wordcloud import WordCloud\n",
    "from textblob import TextBlob\n",
    "from nltk.sentiment.vader import SentimentIntensityAnalyzer\n",
    "import nltk\n",
    "nltk.download('vader_lexicon')\n",
    "from sklearn.feature_extraction.text import CountVectorizer, TfidfVectorizer\n",
    "from sklearn.model_selection import train_test_split\n",
    "from sklearn.naive_bayes import MultinomialNB\n",
    "from sklearn.linear_model import LogisticRegression\n",
    "from sklearn.svm import LinearSVC\n",
    "from sklearn.metrics import accuracy_score, confusion_matrix, classification_report, f1_score\n",
    "import seaborn as sns\n",
    "from imblearn.over_sampling import SMOTE "
   ]
  },
  {
   "cell_type": "code",
   "execution_count": 45,
   "id": "0f34eedf",
   "metadata": {},
   "outputs": [],
   "source": [
    "data = pd.read_csv('datasets/Dataset-SA.csv')"
   ]
  },
  {
   "cell_type": "code",
   "execution_count": 46,
   "id": "67545b12",
   "metadata": {},
   "outputs": [
    {
     "data": {
      "text/plain": [
       "205052"
      ]
     },
     "execution_count": 46,
     "metadata": {},
     "output_type": "execute_result"
    }
   ],
   "source": [
    "len(data)"
   ]
  },
  {
   "cell_type": "code",
   "execution_count": 47,
   "id": "e2abac98",
   "metadata": {},
   "outputs": [],
   "source": [
    "data['text'] = data['Review'].fillna('') + ' ' + data['Summary'].fillna('')\n",
    "data['text'] = data['text'].str.strip()\n",
    "data = data[data['text'] != '']\n",
    "data = data.dropna(subset=['Rate', 'Sentiment'])"
   ]
  },
  {
   "cell_type": "code",
   "execution_count": 48,
   "id": "e1251c21",
   "metadata": {},
   "outputs": [],
   "source": [
    "\n",
    "data['score'] = data['Sentiment'].map({'positive': 1, 'neutral': 0, 'negative': -1})"
   ]
  },
  {
   "cell_type": "code",
   "execution_count": 49,
   "id": "2546d6f5",
   "metadata": {},
   "outputs": [
    {
     "data": {
      "text/html": [
       "<div>\n",
       "<style scoped>\n",
       "    .dataframe tbody tr th:only-of-type {\n",
       "        vertical-align: middle;\n",
       "    }\n",
       "\n",
       "    .dataframe tbody tr th {\n",
       "        vertical-align: top;\n",
       "    }\n",
       "\n",
       "    .dataframe thead th {\n",
       "        text-align: right;\n",
       "    }\n",
       "</style>\n",
       "<table border=\"1\" class=\"dataframe\">\n",
       "  <thead>\n",
       "    <tr style=\"text-align: right;\">\n",
       "      <th></th>\n",
       "      <th>product_name</th>\n",
       "      <th>product_price</th>\n",
       "      <th>Rate</th>\n",
       "      <th>Review</th>\n",
       "      <th>Summary</th>\n",
       "      <th>Sentiment</th>\n",
       "      <th>text</th>\n",
       "      <th>score</th>\n",
       "    </tr>\n",
       "  </thead>\n",
       "  <tbody>\n",
       "    <tr>\n",
       "      <th>0</th>\n",
       "      <td>Candes 12 L Room/Personal Air Cooler??????(Whi...</td>\n",
       "      <td>3999</td>\n",
       "      <td>5</td>\n",
       "      <td>super!</td>\n",
       "      <td>great cooler excellent air flow and for this p...</td>\n",
       "      <td>positive</td>\n",
       "      <td>super! great cooler excellent air flow and for...</td>\n",
       "      <td>1</td>\n",
       "    </tr>\n",
       "    <tr>\n",
       "      <th>1</th>\n",
       "      <td>Candes 12 L Room/Personal Air Cooler??????(Whi...</td>\n",
       "      <td>3999</td>\n",
       "      <td>5</td>\n",
       "      <td>awesome</td>\n",
       "      <td>best budget 2 fit cooler nice cooling</td>\n",
       "      <td>positive</td>\n",
       "      <td>awesome best budget 2 fit cooler nice cooling</td>\n",
       "      <td>1</td>\n",
       "    </tr>\n",
       "    <tr>\n",
       "      <th>2</th>\n",
       "      <td>Candes 12 L Room/Personal Air Cooler??????(Whi...</td>\n",
       "      <td>3999</td>\n",
       "      <td>3</td>\n",
       "      <td>fair</td>\n",
       "      <td>the quality is good but the power of air is de...</td>\n",
       "      <td>positive</td>\n",
       "      <td>fair the quality is good but the power of air ...</td>\n",
       "      <td>1</td>\n",
       "    </tr>\n",
       "    <tr>\n",
       "      <th>3</th>\n",
       "      <td>Candes 12 L Room/Personal Air Cooler??????(Whi...</td>\n",
       "      <td>3999</td>\n",
       "      <td>1</td>\n",
       "      <td>useless product</td>\n",
       "      <td>very bad product its a only a fan</td>\n",
       "      <td>negative</td>\n",
       "      <td>useless product very bad product its a only a fan</td>\n",
       "      <td>-1</td>\n",
       "    </tr>\n",
       "    <tr>\n",
       "      <th>4</th>\n",
       "      <td>Candes 12 L Room/Personal Air Cooler??????(Whi...</td>\n",
       "      <td>3999</td>\n",
       "      <td>3</td>\n",
       "      <td>fair</td>\n",
       "      <td>ok ok product</td>\n",
       "      <td>neutral</td>\n",
       "      <td>fair ok ok product</td>\n",
       "      <td>0</td>\n",
       "    </tr>\n",
       "  </tbody>\n",
       "</table>\n",
       "</div>"
      ],
      "text/plain": [
       "                                        product_name product_price Rate  \\\n",
       "0  Candes 12 L Room/Personal Air Cooler??????(Whi...          3999    5   \n",
       "1  Candes 12 L Room/Personal Air Cooler??????(Whi...          3999    5   \n",
       "2  Candes 12 L Room/Personal Air Cooler??????(Whi...          3999    3   \n",
       "3  Candes 12 L Room/Personal Air Cooler??????(Whi...          3999    1   \n",
       "4  Candes 12 L Room/Personal Air Cooler??????(Whi...          3999    3   \n",
       "\n",
       "            Review                                            Summary  \\\n",
       "0           super!  great cooler excellent air flow and for this p...   \n",
       "1          awesome              best budget 2 fit cooler nice cooling   \n",
       "2             fair  the quality is good but the power of air is de...   \n",
       "3  useless product                  very bad product its a only a fan   \n",
       "4             fair                                      ok ok product   \n",
       "\n",
       "  Sentiment                                               text  score  \n",
       "0  positive  super! great cooler excellent air flow and for...      1  \n",
       "1  positive      awesome best budget 2 fit cooler nice cooling      1  \n",
       "2  positive  fair the quality is good but the power of air ...      1  \n",
       "3  negative  useless product very bad product its a only a fan     -1  \n",
       "4   neutral                                 fair ok ok product      0  "
      ]
     },
     "execution_count": 49,
     "metadata": {},
     "output_type": "execute_result"
    }
   ],
   "source": [
    "data.head()"
   ]
  },
  {
   "cell_type": "code",
   "execution_count": 50,
   "id": "8175c1bd",
   "metadata": {},
   "outputs": [
    {
     "data": {
      "text/plain": [
       "score\n",
       " 1    81.238722\n",
       "-1    13.768349\n",
       " 0     4.992929\n",
       "Name: count, dtype: float64"
      ]
     },
     "execution_count": 50,
     "metadata": {},
     "output_type": "execute_result"
    }
   ],
   "source": [
    "# sentiment distribution\n",
    "data['score'].value_counts()\n",
    "data['score'].value_counts() / len(data) * 100"
   ]
  },
  {
   "cell_type": "code",
   "execution_count": 51,
   "id": "c878495b",
   "metadata": {},
   "outputs": [
    {
     "data": {
      "text/plain": [
       "(616, 2, np.float64(54.207881004633016))"
      ]
     },
     "execution_count": 51,
     "metadata": {},
     "output_type": "execute_result"
    }
   ],
   "source": [
    "data['text_length'] = data['text'].str.len()\n",
    "data['text_length'].max(), data['text_length'].min(), data['text_length'].mean()"
   ]
  },
  {
   "cell_type": "code",
   "execution_count": 52,
   "id": "885a5de9",
   "metadata": {},
   "outputs": [],
   "source": [
    "X = data['text']\n",
    "y = data['score']\n",
    "X_train, X_test, y_train, y_test = train_test_split(X, y, test_size=0.2, random_state=42, stratify=y)"
   ]
  },
  {
   "cell_type": "code",
   "execution_count": 53,
   "id": "466f1a6f",
   "metadata": {},
   "outputs": [
    {
     "data": {
      "text/plain": [
       "(164040, 41010)"
      ]
     },
     "execution_count": 53,
     "metadata": {},
     "output_type": "execute_result"
    }
   ],
   "source": [
    "len(X_train), len(X_test)"
   ]
  },
  {
   "cell_type": "code",
   "execution_count": 54,
   "id": "abf9c9a3",
   "metadata": {},
   "outputs": [],
   "source": [
    "vectorizer_bow = CountVectorizer(stop_words='english', max_features=5000, ngram_range=(1,2))\n",
    "X_train_bow = vectorizer_bow.fit_transform(X_train)\n",
    "X_test_bow = vectorizer_bow.transform(X_test)\n",
    "\n",
    "vectorizer_tfidf = TfidfVectorizer(stop_words='english', max_features=5000, ngram_range=(1,2))\n",
    "X_train_tfidf = vectorizer_tfidf.fit_transform(X_train)\n",
    "X_test_tfidf = vectorizer_tfidf.transform(X_test)"
   ]
  },
  {
   "cell_type": "code",
   "execution_count": 55,
   "id": "d226aac8",
   "metadata": {},
   "outputs": [
    {
     "data": {
      "text/plain": [
       "score\n",
       " 1    133264\n",
       "-1    133264\n",
       " 0    133264\n",
       "Name: count, dtype: int64"
      ]
     },
     "execution_count": 55,
     "metadata": {},
     "output_type": "execute_result"
    }
   ],
   "source": [
    "smote = SMOTE(random_state=42)\n",
    "X_train_bow_balanced, y_train_balanced = smote.fit_resample(X_train_bow, y_train)\n",
    "X_train_tfidf_balanced, y_train_balanced = smote.fit_resample(X_train_tfidf, y_train)\n",
    "\n",
    "pd.Series(y_train_balanced).value_counts()"
   ]
  },
  {
   "cell_type": "code",
   "execution_count": 56,
   "id": "1f0ca2c9",
   "metadata": {},
   "outputs": [
    {
     "name": "stdout",
     "output_type": "stream",
     "text": [
      "\n",
      "Naive Bayes (BoW) Accuracy: 0.8990733967325043\n",
      "Classification Report:\n",
      "               precision    recall  f1-score   support\n",
      "\n",
      "          -1       0.84      0.82      0.83      5646\n",
      "           0       0.36      0.53      0.43      2048\n",
      "           1       0.96      0.94      0.95     33316\n",
      "\n",
      "    accuracy                           0.90     41010\n",
      "   macro avg       0.72      0.76      0.73     41010\n",
      "weighted avg       0.91      0.90      0.90     41010\n",
      "\n",
      "Macro F1-score: 0.7340568832930098\n"
     ]
    }
   ],
   "source": [
    "# Naive Bayes (BoW)\n",
    "nb_model = MultinomialNB()\n",
    "nb_model.fit(X_train_bow_balanced, y_train_balanced)\n",
    "y_pred_nb = nb_model.predict(X_test_bow)\n",
    "print(\"\\nNaive Bayes (BoW) Accuracy:\", accuracy_score(y_test, y_pred_nb))\n",
    "print(\"Classification Report:\\n\", classification_report(y_test, y_pred_nb, zero_division=0))\n",
    "print(\"Macro F1-score:\", f1_score(y_test, y_pred_nb, average='macro'))"
   ]
  },
  {
   "cell_type": "code",
   "execution_count": 57,
   "id": "1f7769d0",
   "metadata": {},
   "outputs": [
    {
     "name": "stderr",
     "output_type": "stream",
     "text": [
      "c:\\ProgramData\\anaconda3\\Lib\\site-packages\\sklearn\\linear_model\\_logistic.py:1256: FutureWarning: 'multi_class' was deprecated in version 1.5 and will be removed in 1.7. Use OneVsRestClassifier(LogisticRegression(..)) instead. Leave it to its default value to avoid this warning.\n",
      "  warnings.warn(\n"
     ]
    },
    {
     "name": "stdout",
     "output_type": "stream",
     "text": [
      "\n",
      "Logistic Regression (BoW) Accuracy: 0.862033650329188\n",
      "Classification Report:\n",
      "               precision    recall  f1-score   support\n",
      "\n",
      "          -1       0.82      0.84      0.83      5646\n",
      "           0       0.25      0.62      0.36      2048\n",
      "           1       0.97      0.88      0.92     33316\n",
      "\n",
      "    accuracy                           0.86     41010\n",
      "   macro avg       0.68      0.78      0.70     41010\n",
      "weighted avg       0.91      0.86      0.88     41010\n",
      "\n",
      "Macro F1-score: 0.7044313225954492\n"
     ]
    }
   ],
   "source": [
    "# Logistic Regression (BoW)\n",
    "lr_model_bow = LogisticRegression(max_iter=1000, penalty='l2', C=1.0, multi_class='ovr', class_weight='balanced')\n",
    "lr_model_bow.fit(X_train_bow_balanced, y_train_balanced)\n",
    "y_pred_lr_bow = lr_model_bow.predict(X_test_bow)\n",
    "print(\"\\nLogistic Regression (BoW) Accuracy:\", accuracy_score(y_test, y_pred_lr_bow))\n",
    "print(\"Classification Report:\\n\", classification_report(y_test, y_pred_lr_bow, zero_division=0))\n",
    "print(\"Macro F1-score:\", f1_score(y_test, y_pred_lr_bow, average='macro'))"
   ]
  },
  {
   "cell_type": "code",
   "execution_count": 58,
   "id": "bb0b13cd",
   "metadata": {},
   "outputs": [
    {
     "name": "stdout",
     "output_type": "stream",
     "text": [
      "\n",
      "LinearSVC (TF-IDF) Accuracy: 0.8469641550841258\n",
      "Classification Report:\n",
      "               precision    recall  f1-score   support\n",
      "\n",
      "          -1       0.80      0.76      0.78      5646\n",
      "           0       0.25      0.75      0.37      2048\n",
      "           1       0.98      0.87      0.92     33316\n",
      "\n",
      "    accuracy                           0.85     41010\n",
      "   macro avg       0.68      0.79      0.69     41010\n",
      "weighted avg       0.92      0.85      0.87     41010\n",
      "\n",
      "Macro F1-score: 0.6916426770171791\n"
     ]
    }
   ],
   "source": [
    "# LinearSVM (TF-IDF)\n",
    "svm_model = LinearSVC(C=1.0, class_weight={-1: 1, 0: 5, 1: 1}, max_iter=1000)\n",
    "svm_model.fit(X_train_tfidf_balanced, y_train_balanced)\n",
    "y_pred_svm = svm_model.predict(X_test_tfidf)\n",
    "print(\"\\nLinearSVC (TF-IDF) Accuracy:\", accuracy_score(y_test, y_pred_svm))\n",
    "print(\"Classification Report:\\n\", classification_report(y_test, y_pred_svm, zero_division=0))\n",
    "print(\"Macro F1-score:\", f1_score(y_test, y_pred_svm, average='macro'))\n"
   ]
  },
  {
   "cell_type": "code",
   "execution_count": 59,
   "id": "6b99a46d",
   "metadata": {},
   "outputs": [
    {
     "name": "stderr",
     "output_type": "stream",
     "text": [
      "c:\\ProgramData\\anaconda3\\Lib\\site-packages\\sklearn\\linear_model\\_logistic.py:1256: FutureWarning: 'multi_class' was deprecated in version 1.5 and will be removed in 1.7. Use OneVsRestClassifier(LogisticRegression(..)) instead. Leave it to its default value to avoid this warning.\n",
      "  warnings.warn(\n"
     ]
    },
    {
     "name": "stdout",
     "output_type": "stream",
     "text": [
      "\n",
      "Logistic Regression (TF-IDF) Accuracy: 0.8918068763716167\n",
      "Classification Report:\n",
      "               precision    recall  f1-score   support\n",
      "\n",
      "          -1       0.80      0.84      0.82      5646\n",
      "           0       0.35      0.67      0.46      2048\n",
      "           1       0.98      0.91      0.94     33316\n",
      "\n",
      "    accuracy                           0.89     41010\n",
      "   macro avg       0.71      0.81      0.74     41010\n",
      "weighted avg       0.92      0.89      0.90     41010\n",
      "\n",
      "Macro F1-score: 0.7419609792051114\n"
     ]
    }
   ],
   "source": [
    "# Logistic Regression (TF-IDF)\n",
    "lr_model_tfidf = LogisticRegression(max_iter=1000, penalty='l2', C=1.0, multi_class='ovr', class_weight='balanced')\n",
    "lr_model_tfidf.fit(X_train_tfidf_balanced, y_train_balanced)\n",
    "y_pred_lr_tfidf = lr_model_tfidf.predict(X_test_tfidf)\n",
    "print(\"\\nLogistic Regression (TF-IDF) Accuracy:\", accuracy_score(y_test, y_pred_lr_tfidf))\n",
    "print(\"Classification Report:\\n\", classification_report(y_test, y_pred_lr_tfidf, zero_division=0))\n",
    "print(\"Macro F1-score:\", f1_score(y_test, y_pred_lr_tfidf, average='macro'))"
   ]
  },
  {
   "cell_type": "code",
   "execution_count": 60,
   "id": "c1101995",
   "metadata": {},
   "outputs": [],
   "source": [
    "test_df = pd.read_csv('test_reviews.csv')\n",
    "test_df['text'] = test_df['review'].fillna('') \n",
    "# + ' ' + test_df['summary'].fillna('')\n",
    "test_df['text'] = test_df['text'].str.strip()\n",
    "test_df = test_df[test_df['text'] != '']\n",
    "test_df = test_df.dropna(subset=['overall'])"
   ]
  },
  {
   "cell_type": "code",
   "execution_count": 61,
   "id": "7994d6d9",
   "metadata": {},
   "outputs": [
    {
     "data": {
      "text/plain": [
       "24"
      ]
     },
     "execution_count": 61,
     "metadata": {},
     "output_type": "execute_result"
    }
   ],
   "source": [
    "len(test_df)"
   ]
  },
  {
   "cell_type": "code",
   "execution_count": 62,
   "id": "44bb3bc3",
   "metadata": {},
   "outputs": [
    {
     "data": {
      "text/html": [
       "<div>\n",
       "<style scoped>\n",
       "    .dataframe tbody tr th:only-of-type {\n",
       "        vertical-align: middle;\n",
       "    }\n",
       "\n",
       "    .dataframe tbody tr th {\n",
       "        vertical-align: top;\n",
       "    }\n",
       "\n",
       "    .dataframe thead th {\n",
       "        text-align: right;\n",
       "    }\n",
       "</style>\n",
       "<table border=\"1\" class=\"dataframe\">\n",
       "  <thead>\n",
       "    <tr style=\"text-align: right;\">\n",
       "      <th></th>\n",
       "      <th>overall</th>\n",
       "      <th>review</th>\n",
       "    </tr>\n",
       "  </thead>\n",
       "  <tbody>\n",
       "    <tr>\n",
       "      <th>0</th>\n",
       "      <td>4</td>\n",
       "      <td>Stuning even for the non-gamer: This sound tr...</td>\n",
       "    </tr>\n",
       "    <tr>\n",
       "      <th>1</th>\n",
       "      <td>5</td>\n",
       "      <td>The best soundtrack ever to anything.: I'm re...</td>\n",
       "    </tr>\n",
       "    <tr>\n",
       "      <th>2</th>\n",
       "      <td>5</td>\n",
       "      <td>Amazing!: This soundtrack is my favorite musi...</td>\n",
       "    </tr>\n",
       "    <tr>\n",
       "      <th>3</th>\n",
       "      <td>3</td>\n",
       "      <td>Excellent Soundtrack: I truly like this sound...</td>\n",
       "    </tr>\n",
       "    <tr>\n",
       "      <th>4</th>\n",
       "      <td>4</td>\n",
       "      <td>Remember, Pull Your Jaw Off The Floor After H...</td>\n",
       "    </tr>\n",
       "  </tbody>\n",
       "</table>\n",
       "</div>"
      ],
      "text/plain": [
       "   overall                                             review\n",
       "0        4   Stuning even for the non-gamer: This sound tr...\n",
       "1        5   The best soundtrack ever to anything.: I'm re...\n",
       "2        5   Amazing!: This soundtrack is my favorite musi...\n",
       "3        3   Excellent Soundtrack: I truly like this sound...\n",
       "4        4   Remember, Pull Your Jaw Off The Floor After H..."
      ]
     },
     "execution_count": 62,
     "metadata": {},
     "output_type": "execute_result"
    }
   ],
   "source": [
    "test_df[['overall', 'review']].head()"
   ]
  },
  {
   "cell_type": "code",
   "execution_count": 63,
   "id": "1f56e4f0",
   "metadata": {},
   "outputs": [
    {
     "data": {
      "text/plain": [
       "overall\n",
       "5    11\n",
       "1     5\n",
       "4     4\n",
       "3     2\n",
       "2     2\n",
       "Name: count, dtype: int64"
      ]
     },
     "execution_count": 63,
     "metadata": {},
     "output_type": "execute_result"
    }
   ],
   "source": [
    "test_df['overall'].value_counts()"
   ]
  },
  {
   "cell_type": "code",
   "execution_count": 64,
   "id": "c5c2f407",
   "metadata": {},
   "outputs": [],
   "source": [
    "# TextBlob\n",
    "test_df['textblob_polarity'] = test_df['text'].apply(lambda x: TextBlob(x).sentiment.polarity)\n",
    "test_df['textblob_pred'] = test_df['textblob_polarity'].apply(lambda x: 1 if x >= 0 else -1)"
   ]
  },
  {
   "cell_type": "code",
   "execution_count": 65,
   "id": "c0e858e4",
   "metadata": {},
   "outputs": [],
   "source": [
    "# VADER\n",
    "sia = SentimentIntensityAnalyzer()\n",
    "test_df['vader_compound'] = test_df['text'].apply(lambda x: sia.polarity_scores(x)['compound'])\n",
    "test_df['vader_pred'] = test_df['vader_compound'].apply(lambda x: 1 if x >= 0.3 else (-1 if x <= -0.3 else 0))"
   ]
  },
  {
   "cell_type": "code",
   "execution_count": 66,
   "id": "66e52158",
   "metadata": {},
   "outputs": [],
   "source": [
    "# ML Models\n",
    "test_bow = vectorizer_bow.transform(test_df['text'])\n",
    "test_tfidf = vectorizer_tfidf.transform(test_df['text'])\n",
    "test_df['nb_pred'] = nb_model.predict(test_bow)\n",
    "test_df['lr_bow_pred'] = lr_model_bow.predict(test_bow)\n",
    "test_df['svm_pred'] = svm_model.predict(test_tfidf)\n",
    "test_df['lr_tfidf_pred'] = lr_model_tfidf.predict(test_tfidf)"
   ]
  },
  {
   "cell_type": "code",
   "execution_count": 67,
   "id": "b5e69f65",
   "metadata": {},
   "outputs": [],
   "source": [
    "test_df['overall_score'] = test_df['overall'].apply(lambda x: 1 if x >= 4 else (-1 if x <= 2 else 0))"
   ]
  },
  {
   "cell_type": "code",
   "execution_count": 68,
   "id": "a37e5f42",
   "metadata": {},
   "outputs": [
    {
     "name": "stdout",
     "output_type": "stream",
     "text": [
      "\n",
      "Dự đoán trên tập test không nhãn:\n",
      "                                                 text  overall  textblob_pred  \\\n",
      "0   Stuning even for the non-gamer: This sound tra...        4             -1   \n",
      "1   The best soundtrack ever to anything.: I'm rea...        5              1   \n",
      "2   Amazing!: This soundtrack is my favorite music...        5              1   \n",
      "3   Excellent Soundtrack: I truly like this soundt...        3              1   \n",
      "4   Remember, Pull Your Jaw Off The Floor After He...        4              1   \n",
      "5   an absolute masterpiece: I am quite sure any o...        3              1   \n",
      "6   Buyer beware: This is a self-published book, a...        1              1   \n",
      "7   Glorious story: I loved Whisper of the wicked ...        5              1   \n",
      "8   A FIVE STAR BOOK: I just finished reading Whis...        5              1   \n",
      "9   Whispers of the Wicked Saints: This was a easy...        4              1   \n",
      "10  The Worst!: A complete waste of time. Typograp...        1             -1   \n",
      "11  Great book: This was a great book,I just could...        5              1   \n",
      "12  Great Read: I thought this book was brilliant,...        5              1   \n",
      "13  Oh please: I guess you have to be a romance no...        1              1   \n",
      "14  Awful beyond belief!: I feel I have to write t...        1             -1   \n",
      "15  Don't try to fool us with fake reviews.: It's ...        1             -1   \n",
      "16  A romantic zen baseball comedy: When you hear ...        4              1   \n",
      "17  Fashionable Compression Stockings!: After I ha...        5             -1   \n",
      "18  Jobst UltraSheer Thigh High: Excellent product...        5              1   \n",
      "19  sizes recomended in the size chart are not rea...        2              1   \n",
      "20  mens ultrasheer: This model may be ok for sede...        2              1   \n",
      "21  Delicious cookie mix: I thought it was funny t...        5              1   \n",
      "22  Another Abysmal Digital Copy: Rather than scra...        5              1   \n",
      "23  A fascinating insight into the life of modern ...        5              1   \n",
      "\n",
      "    vader_pred  nb_pred  lr_bow_pred  svm_pred  lr_tfidf_pred  \n",
      "0            1        1            1         1              1  \n",
      "1            1        1            1         1              1  \n",
      "2            1        1            1         1              1  \n",
      "3            1        1            1         1              1  \n",
      "4            1        1            1         1              1  \n",
      "5            1        1            1         1              1  \n",
      "6           -1        1            1        -1              1  \n",
      "7            1        1            1         1              1  \n",
      "8            1        1            1         1              1  \n",
      "9            1        1            1         1              1  \n",
      "10          -1       -1           -1        -1             -1  \n",
      "11           1        1            1         1              1  \n",
      "12           1        1            1         1              1  \n",
      "13           1        1           -1        -1             -1  \n",
      "14          -1       -1           -1        -1             -1  \n",
      "15          -1       -1           -1        -1             -1  \n",
      "16           1        1            1         1              1  \n",
      "17           1        1            1         1              1  \n",
      "18           1        1            1         0              0  \n",
      "19           1       -1            1        -1             -1  \n",
      "20           1        1            1         0              1  \n",
      "21           1        1            1         1              1  \n",
      "22           1        1            1         1              1  \n",
      "23           1        1            1         1              1  \n"
     ]
    }
   ],
   "source": [
    "print(\"\\nDự đoán trên tập test không nhãn:\")\n",
    "print(test_df[['text', 'overall', 'textblob_pred', 'vader_pred', 'nb_pred', 'lr_bow_pred', 'svm_pred', 'lr_tfidf_pred']])"
   ]
  },
  {
   "cell_type": "code",
   "execution_count": 69,
   "id": "1d8d9a5f",
   "metadata": {},
   "outputs": [
    {
     "name": "stdout",
     "output_type": "stream",
     "text": [
      "\n",
      "Tỷ lệ đồng thuận giữa các phương pháp: 70.83%\n"
     ]
    }
   ],
   "source": [
    "agreement = test_df[['textblob_pred', 'vader_pred', 'nb_pred', 'lr_bow_pred', 'svm_pred', 'lr_tfidf_pred']].eq(test_df['lr_tfidf_pred'], axis=0).all(axis=1).mean()\n",
    "print(f\"\\nTỷ lệ đồng thuận giữa các phương pháp: {agreement:.2%}\")"
   ]
  },
  {
   "cell_type": "code",
   "execution_count": 70,
   "id": "178b4717",
   "metadata": {},
   "outputs": [
    {
     "name": "stdout",
     "output_type": "stream",
     "text": [
      "\n",
      "Phân bố dự đoán (textblob_pred):\n",
      " textblob_pred\n",
      "-1     5\n",
      " 1    19\n",
      "Name: count, dtype: int64\n",
      "\n",
      "Phân bố dự đoán (vader_pred):\n",
      " vader_pred\n",
      "-1     4\n",
      " 1    20\n",
      "Name: count, dtype: int64\n",
      "\n",
      "Phân bố dự đoán (nb_pred):\n",
      " nb_pred\n",
      "-1     4\n",
      " 1    20\n",
      "Name: count, dtype: int64\n",
      "\n",
      "Phân bố dự đoán (lr_bow_pred):\n",
      " lr_bow_pred\n",
      "-1     4\n",
      " 1    20\n",
      "Name: count, dtype: int64\n",
      "\n",
      "Phân bố dự đoán (svm_pred):\n",
      " svm_pred\n",
      "-1     6\n",
      " 0     2\n",
      " 1    16\n",
      "Name: count, dtype: int64\n",
      "\n",
      "Phân bố dự đoán (lr_tfidf_pred):\n",
      " lr_tfidf_pred\n",
      "-1     5\n",
      " 0     1\n",
      " 1    18\n",
      "Name: count, dtype: int64\n"
     ]
    }
   ],
   "source": [
    "for method in ['textblob_pred', 'vader_pred', 'nb_pred', 'lr_bow_pred', 'svm_pred', 'lr_tfidf_pred']:\n",
    "    print(f\"\\nPhân bố dự đoán ({method}):\\n\", test_df[method].value_counts().sort_index())"
   ]
  },
  {
   "cell_type": "code",
   "execution_count": 71,
   "id": "12e8a929",
   "metadata": {},
   "outputs": [
    {
     "name": "stdout",
     "output_type": "stream",
     "text": [
      "\n",
      "So sánh với overall_score (đối chiếu sơ bộ):\n",
      "textblob_pred agreement with overall_score: 66.67%\n",
      "vader_pred agreement with overall_score: 79.17%\n",
      "nb_pred agreement with overall_score: 79.17%\n",
      "lr_bow_pred agreement with overall_score: 79.17%\n",
      "svm_pred agreement with overall_score: 83.33%\n",
      "lr_tfidf_pred agreement with overall_score: 79.17%\n"
     ]
    }
   ],
   "source": [
    "test_df['overall_score'] = test_df['overall'].apply(lambda x: 1 if x >= 4 else (-1 if x <= 2 else 0))\n",
    "print(\"\\nSo sánh với overall_score (đối chiếu sơ bộ):\")\n",
    "for method in ['textblob_pred', 'vader_pred', 'nb_pred', 'lr_bow_pred', 'svm_pred', 'lr_tfidf_pred']:\n",
    "    agreement_with_overall = (test_df[method] == test_df['overall_score']).mean()\n",
    "    print(f\"{method} agreement with overall_score: {agreement_with_overall:.2%}\")"
   ]
  },
  {
   "cell_type": "code",
   "execution_count": 72,
   "id": "562424f6",
   "metadata": {},
   "outputs": [
    {
     "data": {
      "image/png": "[encoded data removed]",
      "text/plain": [
       "<Figure size 600x400 with 1 Axes>"
      ]
     },
     "metadata": {},
     "output_type": "display_data"
    }
   ],
   "source": [
    "cm = confusion_matrix(y_test, y_pred_svm)\n",
    "plt.figure(figsize=(6, 4))\n",
    "sns.heatmap(cm, annot=True, fmt='d', cmap='Blues', cbar=False)\n",
    "plt.title('Confusion Matrix - Logistic Regression (TF-IDF) on Test Set')\n",
    "plt.xlabel('Predicted')\n",
    "plt.ylabel('Actual')\n",
    "plt.xticks(ticks=[0, 1, 2], labels=['Negative (-1)', 'Neutral (0)', 'Positive (+1)'])\n",
    "plt.yticks(ticks=[0, 1, 2], labels=['Negative (-1)', 'Neutral (0)', 'Positive (+1)'])\n",
    "plt.show()"
   ]
  },
  {
   "cell_type": "code",
   "execution_count": 77,
   "id": "390b7517",
   "metadata": {},
   "outputs": [
    {
     "name": "stdout",
     "output_type": "stream",
     "text": [
      "Train counts: score\n",
      "-1     28232\n",
      " 0     10238\n",
      " 1    166580\n",
      "Name: count, dtype: int64\n",
      "Test counts: overall_score\n",
      "-1     7\n",
      " 0     2\n",
      " 1    15\n",
      "Name: count, dtype: int64\n",
      "SVM counts: svm_pred\n",
      "-1     6\n",
      " 0     2\n",
      " 1    16\n",
      "Name: count, dtype: int64\n"
     ]
    },
    {
     "data": {
      "image/png": "[encoded data removed]",
      "text/plain": [
       "<Figure size 1000x600 with 1 Axes>"
      ]
     },
     "metadata": {},
     "output_type": "display_data"
    }
   ],
   "source": [
    "plt.figure(figsize=(10, 6))\n",
    "train_counts = data['score'].value_counts().reindex([-1, 0, 1], fill_value=0)\n",
    "test_counts = test_df['overall_score'].value_counts().reindex([-1, 0, 1], fill_value=0)\n",
    "svm_counts = test_df['svm_pred'].value_counts().reindex([-1, 0, 1], fill_value=0)\n",
    "labels = ['Negative (-1)', 'Neutral (0)', 'Positive (+1)']\n",
    "\n",
    "x = np.arange(len(labels))\n",
    "width = 0.25\n",
    "\n",
    "print(\"Train counts:\", train_counts)\n",
    "print(\"Test counts:\", test_counts)\n",
    "print(\"SVM counts:\", svm_counts)\n",
    "\n",
    "\n",
    "plt.bar(np.arange(3) - 0.2, train_counts, width=0.2, label='Train Data', color='#FF6384')\n",
    "plt.bar(np.arange(3), test_counts, width=0.2, label='Test Data (Overall Score)', color='#36A2EB')\n",
    "plt.bar(np.arange(3) + 0.2, svm_counts, width=0.2, label='SVM Prediction', color='#FFCE56')\n",
    "plt.xlabel('Sentiment')\n",
    "plt.ylabel('Number of Samples')\n",
    "plt.title('Sentiment Distribution Comparison')\n",
    "plt.xticks(np.arange(3), labels)\n",
    "plt.legend()\n",
    "plt.show()"
   ]
  },
  {
   "cell_type": "code",
   "execution_count": null,
   "id": "b903db2e",
   "metadata": {},
   "outputs": [
    {
     "data": {
      "image/png": "[encoded data removed]",
      "text/plain": [
       "<Figure size 800x600 with 1 Axes>"
      ]
     },
     "metadata": {},
     "output_type": "display_data"
    }
   ],
   "source": [
    "# plt.figure(figsize=(8, 6))\n",
    "# methods = ['textblob_pred', 'vader_pred', 'nb_pred', 'lr_bow_pred', 'svm_pred', 'lr_tfidf_pred']\n",
    "# agreements = [(test_df[method] == test_df['overall_score']).mean() * 100 for method in methods]\n",
    "# plt.pie(agreements, labels=methods, autopct='%1.1f%%', colors=['#FF6384', '#36A2EB', '#FFCE56', '#4BC0C0', '#9966FF', '#FF9F40'])\n",
    "# plt.title('Agreement Rate with Overall Score')\n",
    "# plt.show()"
   ]
  }
 ],
 "metadata": {
  "kernelspec": {
   "display_name": "base",
   "language": "python",
   "name": "python3"
  },
  "language_info": {
   "codemirror_mode": {
    "name": "ipython",
    "version": 3
   },
   "file_extension": ".py",
   "mimetype": "text/x-python",
   "name": "python",
   "nbconvert_exporter": "python",
   "pygments_lexer": "ipython3",
   "version": "3.13.5"
  }
 },
 "nbformat": 4,
 "nbformat_minor": 5
}
